{
 "cells": [
  {
   "cell_type": "code",
   "execution_count": null,
   "metadata": {},
   "outputs": [],
   "source": []
  },
  {
   "cell_type": "markdown",
   "metadata": {},
   "source": [
    "**Скачивание файлов с HuggingFace**"
   ]
  },
  {
   "cell_type": "code",
   "execution_count": 19,
   "metadata": {},
   "outputs": [
    {
     "data": {
      "text/plain": [
       "' \\nfrom datasets import load_dataset\\nimport pandas as pd\\nimport os\\n\\n# Папка для сохранения\\nsave_dir = \"/Users/narciss/Desktop/ВКР/Data\"\\nos.makedirs(save_dir, exist_ok=True)\\n\\n# Доступные конфигурации (месяцы)\\nconfigs = [\\n    \"2017-01\", \"2017-02\", \"2017-03\", \"2017-04\", \"2017-05\", \"2017-06\", \"2017-07\", \"2017-08\", \"2017-09\", \"2017-10\",\\n    \"2017-11\", \"2017-12\", \"2018-01\", \"2018-02\", \"2018-03\", \"2018-04\", \"2018-05\", \"2018-06\", \"2018-07\", \"2018-08\",\\n    \"2018-09\", \"2018-10\", \"2018-11\", \"2018-12\", \"2019-01\", \"2019-02\", \"2019-03\", \"2019-04\", \"2019-05\", \"2019-06\",\\n    \"2019-07\", \"2019-08\", \"2019-09\", \"2019-10\", \"2019-11\", \"2019-12\", \"2020-01\", \"2020-02\", \"2020-03\", \"2020-04\",\\n    \"2020-05\", \"2020-06\", \"2020-07\", \"2020-08\", \"2020-09\", \"2020-10\", \"2020-11\", \"2020-12\", \"2021-01\", \"2021-02\",\\n    \"2021-03\", \"2021-04\", \"2021-05\", \"2021-06\", \"2021-07\", \"2021-08\", \"2021-09\", \"2021-10\", \"2021-11\", \"2021-12\",\\n    \"2022-01\", \"2022-02\", \"2022-03\", \"2022-04\", \"2022-05\", \"2022-06\", \"2022-07\", \"2022-08\", \"2022-09\", \"2022-10\",\\n    \"2022-11\", \"2022-12\", \"2023-01\", \"2023-02\", \"2023-03\", \"2023-04\", \"2023-05\", \"2023-06\", \"2023-07\", \"2023-08\",\\n    \"2023-09\", \"2023-10\", \"2023-11\", \"2023-12\", \"2024-01\", \"2024-02\", \"2024-03\", \"2024-04\", \"2024-05\", \"2024-06\",\\n    \"2024-07\", \"2024-08\", \"2024-09\", \"2024-10\", \"2024-11\", \"2024-12\", \"2025-01\", \"2025-02\"\\n]\\n\\n# Список для объединения всех данных\\nall_data = []\\n\\n# Оставляем только текстовые данные\\ncolumns_to_keep = [\"title\", \"published_date\", \"authors\", \"description\", \"section\", \"content\", \"link\"]\\n\\n# Загружаем данные по месяцам\\nfor config in configs:\\n    try:\\n        print(f\"Загрузка данных за {config}...\")\\n        dataset = load_dataset(\"RealTimeData/bbc_news_alltime\", config)\\n\\n        # Преобразуем в DataFrame и фильтруем нужные колонки\\n        df = pd.DataFrame(dataset[\"train\"])  # Данные лежат в разделе \"train\"\\n\\n        # Проверяем наличие нужных столбцов\\n        df = df[columns_to_keep]\\n\\n        # Добавляем в общий список\\n        all_data.append(df)\\n\\n        # Сохраняем отдельно (если нужно)\\n        file_path = os.path.join(save_dir, f\"bbc_news_{config}.csv\")\\n        df.to_csv(file_path, index=False, encoding=\"utf-8\")\\n\\n        print(f\"✅ Данные за {config} сохранены!\")\\n\\n    except Exception as e:\\n        print(f\"⚠️ Ошибка при загрузке {config}: {e}\")\\n\\n# Объединяем все данные в один файл\\nif all_data:\\n    final_df = pd.concat(all_data, ignore_index=True)\\n    final_file_path = os.path.join(save_dir, \"bbc_news_2017_2025_combined.csv\")\\n    final_df.to_csv(final_file_path, index=False, encoding=\"utf-8\")\\n\\n    print(f\"\\n✅ Все данные объединены и сохранены в: {final_file_path}\")\\nelse:\\n    print(\"\\n⚠️ Данные не были загружены.\")\\n    \\n'"
      ]
     },
     "execution_count": 19,
     "metadata": {},
     "output_type": "execute_result"
    }
   ],
   "source": [
    "\"\"\" \n",
    "from datasets import load_dataset\n",
    "import pandas as pd\n",
    "import os\n",
    "\n",
    "# Папка для сохранения\n",
    "save_dir = \"\"\n",
    "os.makedirs(save_dir, exist_ok=True)\n",
    "\n",
    "# Доступные конфигурации (месяцы)\n",
    "configs = [\n",
    "    \"2017-01\", \"2017-02\", \"2017-03\", \"2017-04\", \"2017-05\", \"2017-06\", \"2017-07\", \"2017-08\", \"2017-09\", \"2017-10\",\n",
    "    \"2017-11\", \"2017-12\", \"2018-01\", \"2018-02\", \"2018-03\", \"2018-04\", \"2018-05\", \"2018-06\", \"2018-07\", \"2018-08\",\n",
    "    \"2018-09\", \"2018-10\", \"2018-11\", \"2018-12\", \"2019-01\", \"2019-02\", \"2019-03\", \"2019-04\", \"2019-05\", \"2019-06\",\n",
    "    \"2019-07\", \"2019-08\", \"2019-09\", \"2019-10\", \"2019-11\", \"2019-12\", \"2020-01\", \"2020-02\", \"2020-03\", \"2020-04\",\n",
    "    \"2020-05\", \"2020-06\", \"2020-07\", \"2020-08\", \"2020-09\", \"2020-10\", \"2020-11\", \"2020-12\", \"2021-01\", \"2021-02\",\n",
    "    \"2021-03\", \"2021-04\", \"2021-05\", \"2021-06\", \"2021-07\", \"2021-08\", \"2021-09\", \"2021-10\", \"2021-11\", \"2021-12\",\n",
    "    \"2022-01\", \"2022-02\", \"2022-03\", \"2022-04\", \"2022-05\", \"2022-06\", \"2022-07\", \"2022-08\", \"2022-09\", \"2022-10\",\n",
    "    \"2022-11\", \"2022-12\", \"2023-01\", \"2023-02\", \"2023-03\", \"2023-04\", \"2023-05\", \"2023-06\", \"2023-07\", \"2023-08\",\n",
    "    \"2023-09\", \"2023-10\", \"2023-11\", \"2023-12\", \"2024-01\", \"2024-02\", \"2024-03\", \"2024-04\", \"2024-05\", \"2024-06\",\n",
    "    \"2024-07\", \"2024-08\", \"2024-09\", \"2024-10\", \"2024-11\", \"2024-12\", \"2025-01\", \"2025-02\"\n",
    "]\n",
    "\n",
    "# Список для объединения всех данных\n",
    "all_data = []\n",
    "\n",
    "# Оставляем только текстовые данные\n",
    "columns_to_keep = [\"title\", \"published_date\", \"authors\", \"description\", \"section\", \"content\", \"link\"]\n",
    "\n",
    "# Загружаем данные по месяцам\n",
    "for config in configs:\n",
    "    try:\n",
    "        print(f\"Загрузка данных за {config}...\")\n",
    "        dataset = load_dataset(\"RealTimeData/bbc_news_alltime\", config)\n",
    "\n",
    "        # Преобразуем в DataFrame и фильтруем нужные колонки\n",
    "        df = pd.DataFrame(dataset[\"train\"])  # Данные лежат в разделе \"train\"\n",
    "\n",
    "        # Проверяем наличие нужных столбцов\n",
    "        df = df[columns_to_keep]\n",
    "\n",
    "        # Добавляем в общий список\n",
    "        all_data.append(df)\n",
    "\n",
    "        # Сохраняем отдельно (если нужно)\n",
    "        file_path = os.path.join(save_dir, f\"bbc_news_{config}.csv\")\n",
    "        df.to_csv(file_path, index=False, encoding=\"utf-8\")\n",
    "\n",
    "        print(f\"✅ Данные за {config} сохранены!\")\n",
    "\n",
    "    except Exception as e:\n",
    "        print(f\"⚠️ Ошибка при загрузке {config}: {e}\")\n",
    "\n",
    "# Объединяем все данные в один файл\n",
    "if all_data:\n",
    "    final_df = pd.concat(all_data, ignore_index=True)\n",
    "    final_file_path = os.path.join(save_dir, \"bbc_news_2017_2025_combined.csv\")\n",
    "    final_df.to_csv(final_file_path, index=False, encoding=\"utf-8\")\n",
    "\n",
    "    print(f\"\\n✅ Все данные объединены и сохранены в: {final_file_path}\")\n",
    "else:\n",
    "    print(\"\\n⚠️ Данные не были загружены.\")\n",
    "    \n",
    "\"\"\"\n"
   ]
  },
  {
   "cell_type": "code",
   "execution_count": null,
   "metadata": {},
   "outputs": [],
   "source": []
  },
  {
   "cell_type": "code",
   "execution_count": 9,
   "metadata": {},
   "outputs": [
    {
     "name": "stdout",
     "output_type": "stream",
     "text": [
      "                                               title published_date  \\\n",
      "0  Saido Berahino: Stoke complete deal to sign We...     2017-01-21   \n",
      "1  Lawro's Premier League predictions v Split sta...     2017-01-21   \n",
      "2  Chapecoense plane: Footballer Neto dreamt of c...     2017-01-21   \n",
      "3  Australian Open: Johanna Konta praises support...     2017-01-21   \n",
      "4  Friends' 30-year-search for Celtic treasure tr...     2017-01-21   \n",
      "5  Irish jockey Jack Kennedy performs amazing acr...     2017-01-21   \n",
      "6  Man City 2-2 Tottenham: Pep Guardiola 'upset' ...     2017-01-21   \n",
      "7  Meet the British family spanning six generatio...     2017-01-21   \n",
      "8  Martin McGuinness: The end of a long journey -...     2017-01-21   \n",
      "9  Australian Open 2017: Johanna Konta beats Caro...     2017-01-21   \n",
      "\n",
      "                            authors  \\\n",
      "0                               NaN   \n",
      "1                               NaN   \n",
      "2                               NaN   \n",
      "3                               NaN   \n",
      "4                               NaN   \n",
      "5                               NaN   \n",
      "6                               NaN   \n",
      "7                               NaN   \n",
      "8  https://www.facebook.com/bbcnews   \n",
      "9                               NaN   \n",
      "\n",
      "                                         description           section  \\\n",
      "0  Stoke sign West Brom striker Saido Berahino fo...               NaN   \n",
      "1  BBC football expert Mark Lawrenson takes on ac...               NaN   \n",
      "2  Chapecoense football club player Neto is one o...               NaN   \n",
      "3  Great Britain's Johanna Konta says her family ...               NaN   \n",
      "4  Two metal detector enthusiasts found a huge ho...               NaN   \n",
      "5  Irish jockey Jack Kennedy manages to stay on h...               NaN   \n",
      "6  Manchester City manager Pep Guardiola praises ...               NaN   \n",
      "7  A family from Yorkshire is thought to be the o...               NaN   \n",
      "8  The BBC's Peter Taylor looks back as Martin Mc...  Northern Ireland   \n",
      "9  Britain's Johanna Konta beats Caroline Wozniac...               NaN   \n",
      "\n",
      "                                             content  \\\n",
      "0  Last updated on .From the section Football\\n\\n...   \n",
      "1  Last updated on .From the section Football\\n\\n...   \n",
      "2  Chapecoense footballer Neto is one of six surv...   \n",
      "3  Last updated on .From the section Tennis\\n\\nCo...   \n",
      "4  A 30-year obsession finally paid off for two m...   \n",
      "5  Irish jockey Jack Kennedy manages to stay on h...   \n",
      "6  Manchester City manager Pep Guardiola praises ...   \n",
      "7  A family from Yorkshire is thought to be the o...   \n",
      "8  The political retirement of Martin McGuinness ...   \n",
      "9  Last updated on .From the section Tennis\\n\\nCo...   \n",
      "\n",
      "                                                link  \n",
      "0       http://www.bbc.co.uk/sport/football/38696547  \n",
      "1       http://www.bbc.co.uk/sport/football/38632703  \n",
      "2  http://www.bbc.co.uk/news/world-latin-america-...  \n",
      "3         http://www.bbc.co.uk/sport/tennis/38704836  \n",
      "4    http://www.bbc.co.uk/news/world-europe-38703914  \n",
      "5   http://www.bbc.co.uk/sport/horse-racing/38694316  \n",
      "6       http://www.bbc.co.uk/sport/football/38707859  \n",
      "7              http://www.bbc.co.uk/news/uk-38704598  \n",
      "8  http://www.bbc.co.uk/news/uk-northern-ireland-...  \n",
      "9         http://www.bbc.co.uk/sport/tennis/38702928  \n"
     ]
    }
   ],
   "source": [
    "import pandas as pd\n",
    "\n",
    "df = pd.read_csv(\"bbc_news_2017-01.csv\")\n",
    "print(df.head(10))  # Проверяем первые 10 записей"
   ]
  },
  {
   "cell_type": "code",
   "execution_count": 8,
   "metadata": {},
   "outputs": [
    {
     "data": {
      "text/plain": [
       "Index                 128\n",
       "title              205397\n",
       "published_date     113096\n",
       "authors             99129\n",
       "description        288209\n",
       "section             82022\n",
       "content           6392508\n",
       "link               174361\n",
       "dtype: int64"
      ]
     },
     "execution_count": 8,
     "metadata": {},
     "output_type": "execute_result"
    }
   ],
   "source": [
    "df.memory_usage(deep=True)\n"
   ]
  },
  {
   "cell_type": "code",
   "execution_count": 10,
   "metadata": {},
   "outputs": [
    {
     "data": {
      "text/plain": [
       "0    Last updated on .From the section Football\\n\\n...\n",
       "1    Last updated on .From the section Football\\n\\n...\n",
       "2    Chapecoense footballer Neto is one of six surv...\n",
       "3    Last updated on .From the section Tennis\\n\\nCo...\n",
       "4    A 30-year obsession finally paid off for two m...\n",
       "Name: content, dtype: object"
      ]
     },
     "execution_count": 10,
     "metadata": {},
     "output_type": "execute_result"
    }
   ],
   "source": [
    "df['content'].head()"
   ]
  },
  {
   "cell_type": "code",
   "execution_count": 11,
   "metadata": {},
   "outputs": [],
   "source": [
    "import pandas as pd\n",
    "df = pd.read_csv('bbc_news_2017_2025_combined.csv')"
   ]
  },
  {
   "cell_type": "code",
   "execution_count": 12,
   "metadata": {},
   "outputs": [],
   "source": [
    "df.to_parquet(\"bbc_news_2017_2025_combined.parquet\", index=False)"
   ]
  },
  {
   "cell_type": "code",
   "execution_count": 13,
   "metadata": {},
   "outputs": [],
   "source": [
    "dd = pd.read_parquet('bbc_news_2017_2025_combined.parquet')"
   ]
  },
  {
   "cell_type": "code",
   "execution_count": 14,
   "metadata": {},
   "outputs": [
    {
     "data": {
      "text/html": [
       "<div>\n",
       "<style scoped>\n",
       "    .dataframe tbody tr th:only-of-type {\n",
       "        vertical-align: middle;\n",
       "    }\n",
       "\n",
       "    .dataframe tbody tr th {\n",
       "        vertical-align: top;\n",
       "    }\n",
       "\n",
       "    .dataframe thead th {\n",
       "        text-align: right;\n",
       "    }\n",
       "</style>\n",
       "<table border=\"1\" class=\"dataframe\">\n",
       "  <thead>\n",
       "    <tr style=\"text-align: right;\">\n",
       "      <th></th>\n",
       "      <th>title</th>\n",
       "      <th>published_date</th>\n",
       "      <th>authors</th>\n",
       "      <th>description</th>\n",
       "      <th>section</th>\n",
       "      <th>content</th>\n",
       "      <th>link</th>\n",
       "    </tr>\n",
       "  </thead>\n",
       "  <tbody>\n",
       "    <tr>\n",
       "      <th>0</th>\n",
       "      <td>Saido Berahino: Stoke complete deal to sign We...</td>\n",
       "      <td>2017-01-21</td>\n",
       "      <td>None</td>\n",
       "      <td>Stoke sign West Brom striker Saido Berahino fo...</td>\n",
       "      <td>None</td>\n",
       "      <td>Last updated on .From the section Football\\n\\n...</td>\n",
       "      <td>http://www.bbc.co.uk/sport/football/38696547</td>\n",
       "    </tr>\n",
       "    <tr>\n",
       "      <th>1</th>\n",
       "      <td>Lawro's Premier League predictions v Split sta...</td>\n",
       "      <td>2017-01-21</td>\n",
       "      <td>None</td>\n",
       "      <td>BBC football expert Mark Lawrenson takes on ac...</td>\n",
       "      <td>None</td>\n",
       "      <td>Last updated on .From the section Football\\n\\n...</td>\n",
       "      <td>http://www.bbc.co.uk/sport/football/38632703</td>\n",
       "    </tr>\n",
       "    <tr>\n",
       "      <th>2</th>\n",
       "      <td>Chapecoense plane: Footballer Neto dreamt of c...</td>\n",
       "      <td>2017-01-21</td>\n",
       "      <td>None</td>\n",
       "      <td>Chapecoense football club player Neto is one o...</td>\n",
       "      <td>None</td>\n",
       "      <td>Chapecoense footballer Neto is one of six surv...</td>\n",
       "      <td>http://www.bbc.co.uk/news/world-latin-america-...</td>\n",
       "    </tr>\n",
       "    <tr>\n",
       "      <th>3</th>\n",
       "      <td>Australian Open: Johanna Konta praises support...</td>\n",
       "      <td>2017-01-21</td>\n",
       "      <td>None</td>\n",
       "      <td>Great Britain's Johanna Konta says her family ...</td>\n",
       "      <td>None</td>\n",
       "      <td>Last updated on .From the section Tennis\\n\\nCo...</td>\n",
       "      <td>http://www.bbc.co.uk/sport/tennis/38704836</td>\n",
       "    </tr>\n",
       "    <tr>\n",
       "      <th>4</th>\n",
       "      <td>Friends' 30-year-search for Celtic treasure tr...</td>\n",
       "      <td>2017-01-21</td>\n",
       "      <td>None</td>\n",
       "      <td>Two metal detector enthusiasts found a huge ho...</td>\n",
       "      <td>None</td>\n",
       "      <td>A 30-year obsession finally paid off for two m...</td>\n",
       "      <td>http://www.bbc.co.uk/news/world-europe-38703914</td>\n",
       "    </tr>\n",
       "  </tbody>\n",
       "</table>\n",
       "</div>"
      ],
      "text/plain": [
       "                                               title published_date authors  \\\n",
       "0  Saido Berahino: Stoke complete deal to sign We...     2017-01-21    None   \n",
       "1  Lawro's Premier League predictions v Split sta...     2017-01-21    None   \n",
       "2  Chapecoense plane: Footballer Neto dreamt of c...     2017-01-21    None   \n",
       "3  Australian Open: Johanna Konta praises support...     2017-01-21    None   \n",
       "4  Friends' 30-year-search for Celtic treasure tr...     2017-01-21    None   \n",
       "\n",
       "                                         description section  \\\n",
       "0  Stoke sign West Brom striker Saido Berahino fo...    None   \n",
       "1  BBC football expert Mark Lawrenson takes on ac...    None   \n",
       "2  Chapecoense football club player Neto is one o...    None   \n",
       "3  Great Britain's Johanna Konta says her family ...    None   \n",
       "4  Two metal detector enthusiasts found a huge ho...    None   \n",
       "\n",
       "                                             content  \\\n",
       "0  Last updated on .From the section Football\\n\\n...   \n",
       "1  Last updated on .From the section Football\\n\\n...   \n",
       "2  Chapecoense footballer Neto is one of six surv...   \n",
       "3  Last updated on .From the section Tennis\\n\\nCo...   \n",
       "4  A 30-year obsession finally paid off for two m...   \n",
       "\n",
       "                                                link  \n",
       "0       http://www.bbc.co.uk/sport/football/38696547  \n",
       "1       http://www.bbc.co.uk/sport/football/38632703  \n",
       "2  http://www.bbc.co.uk/news/world-latin-america-...  \n",
       "3         http://www.bbc.co.uk/sport/tennis/38704836  \n",
       "4    http://www.bbc.co.uk/news/world-europe-38703914  "
      ]
     },
     "execution_count": 14,
     "metadata": {},
     "output_type": "execute_result"
    }
   ],
   "source": [
    "dd.head()"
   ]
  },
  {
   "cell_type": "code",
   "execution_count": null,
   "metadata": {},
   "outputs": [],
   "source": []
  },
  {
   "cell_type": "code",
   "execution_count": null,
   "metadata": {},
   "outputs": [],
   "source": []
  },
  {
   "cell_type": "code",
   "execution_count": null,
   "metadata": {},
   "outputs": [],
   "source": [
    "import pandas as pd\n",
    "\n",
    "# Указываем путь к исходному CSV-файлу\n",
    "input_file_path = \"bbc_news_2017_2025_combined.csv\"  # Замените на ваш путь\n",
    "\n",
    "# Указываем путь для сохранения отфильтрованного файла\n",
    "output_file_path = \"bbc_news_2017_2025_filtered.csv\"\n",
    "\n",
    "# Столбцы, которые нужно оставить\n",
    "columns_to_keep = [\"title\", \"published_date\", \"description\", \"link\"]\n",
    "\n",
    "# Загружаем файл с чтением только нужных столбцов (ускоряет обработку)\n",
    "df = pd.read_csv(input_file_path, usecols=columns_to_keep)\n",
    "\n",
    "# Сохраняем отфильтрованные данные в новый CSV\n",
    "df.to_csv(output_file_path, index=False, encoding=\"utf-8\")\n",
    "\n",
    "print(f\"✅ Файл сохранён: {output_file_path}\")\n"
   ]
  },
  {
   "cell_type": "code",
   "execution_count": null,
   "metadata": {},
   "outputs": [],
   "source": []
  }
 ],
 "metadata": {
  "kernelspec": {
   "display_name": "Python 3",
   "language": "python",
   "name": "python3"
  },
  "language_info": {
   "codemirror_mode": {
    "name": "ipython",
    "version": 3
   },
   "file_extension": ".py",
   "mimetype": "text/x-python",
   "name": "python",
   "nbconvert_exporter": "python",
   "pygments_lexer": "ipython3",
   "version": "3.11.0"
  }
 },
 "nbformat": 4,
 "nbformat_minor": 2
}
